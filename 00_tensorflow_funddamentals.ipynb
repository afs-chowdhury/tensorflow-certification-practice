{
  "nbformat": 4,
  "nbformat_minor": 0,
  "metadata": {
    "colab": {
      "name": "00_tensorflow_funddamentals.ipynb",
      "provenance": []
    },
    "kernelspec": {
      "name": "python3",
      "display_name": "Python 3"
    },
    "language_info": {
      "name": "python"
    }
  },
  "cells": [
    {
      "cell_type": "markdown",
      "metadata": {
        "id": "tcg0tcozgBHb"
      },
      "source": [
        "## Introduction to Tensors"
      ]
    },
    {
      "cell_type": "markdown",
      "metadata": {
        "id": "YsQXZF9Sq4Nh"
      },
      "source": [
        "### Creating tensors with `tf.constant()`"
      ]
    },
    {
      "cell_type": "code",
      "metadata": {
        "colab": {
          "base_uri": "https://localhost:8080/"
        },
        "id": "ABNHxDrFj7uH",
        "outputId": "9813e511-dcf0-487f-8056-20e6436e6372"
      },
      "source": [
        "# Import tensorflow\n",
        "\n",
        "import tensorflow as tf\n",
        "\n",
        "print(tf.__version__)"
      ],
      "execution_count": 1,
      "outputs": [
        {
          "output_type": "stream",
          "name": "stdout",
          "text": [
            "2.7.0\n"
          ]
        }
      ]
    },
    {
      "cell_type": "code",
      "metadata": {
        "id": "P91sOiYjkPVU"
      },
      "source": [
        "# create a tensor with tf.constant()\n",
        "\n",
        "scalar = tf.constant(7)"
      ],
      "execution_count": null,
      "outputs": []
    },
    {
      "cell_type": "code",
      "metadata": {
        "colab": {
          "base_uri": "https://localhost:8080/"
        },
        "id": "DjBcpvh9knIZ",
        "outputId": "903a35bb-3170-4294-968c-c29337bb6a06"
      },
      "source": [
        "dimension_of_scalar = scalar.ndim\n",
        "print(f\"dimension of scalar is {dimension_of_scalar}\")"
      ],
      "execution_count": null,
      "outputs": [
        {
          "output_type": "stream",
          "name": "stdout",
          "text": [
            "dimension of scalar is 0\n"
          ]
        }
      ]
    },
    {
      "cell_type": "code",
      "metadata": {
        "colab": {
          "base_uri": "https://localhost:8080/"
        },
        "id": "J0OZL6msl1vm",
        "outputId": "ad45fb64-2670-4875-ae07-7224ca42e084"
      },
      "source": [
        "# crate a vector ( with dimension 1)\n",
        "\n",
        "vector = tf.constant([2,2])\n",
        "vector"
      ],
      "execution_count": 5,
      "outputs": [
        {
          "output_type": "execute_result",
          "data": {
            "text/plain": [
              "<tf.Tensor: shape=(2,), dtype=int32, numpy=array([2, 2], dtype=int32)>"
            ]
          },
          "metadata": {},
          "execution_count": 5
        }
      ]
    },
    {
      "cell_type": "code",
      "metadata": {
        "colab": {
          "base_uri": "https://localhost:8080/"
        },
        "id": "yQ90QvKCmd76",
        "outputId": "b09e2907-4403-4234-ffd9-aef9aa704e66"
      },
      "source": [
        "dimension_of_vector = vector.ndim\n",
        "print(f\"dimension of vector is {dimension_of_vector}\")"
      ],
      "execution_count": 6,
      "outputs": [
        {
          "output_type": "stream",
          "name": "stdout",
          "text": [
            "dimension of vector is 1\n"
          ]
        }
      ]
    },
    {
      "cell_type": "code",
      "metadata": {
        "colab": {
          "base_uri": "https://localhost:8080/"
        },
        "id": "4atSsrK4m-4U",
        "outputId": "571c0d5c-8e8a-4e63-9659-e30df68ee523"
      },
      "source": [
        "# create a matrix \n",
        "\n",
        "matrix = tf.constant([\n",
        "                      [2,4],\n",
        "                      [4,2]\n",
        "])\n",
        "matrix"
      ],
      "execution_count": 7,
      "outputs": [
        {
          "output_type": "execute_result",
          "data": {
            "text/plain": [
              "<tf.Tensor: shape=(2, 2), dtype=int32, numpy=\n",
              "array([[2, 4],\n",
              "       [4, 2]], dtype=int32)>"
            ]
          },
          "metadata": {},
          "execution_count": 7
        }
      ]
    },
    {
      "cell_type": "code",
      "metadata": {
        "colab": {
          "base_uri": "https://localhost:8080/"
        },
        "id": "UPEYSwKjnOvC",
        "outputId": "9ab219bc-1433-4171-efef-946db940153f"
      },
      "source": [
        "dimension_of_matrix = matrix.ndim\n",
        "print(f\"dimension of matrix is {dimension_of_matrix}\")"
      ],
      "execution_count": 8,
      "outputs": [
        {
          "output_type": "stream",
          "name": "stdout",
          "text": [
            "dimension of matrix is 2\n"
          ]
        }
      ]
    },
    {
      "cell_type": "code",
      "metadata": {
        "colab": {
          "base_uri": "https://localhost:8080/"
        },
        "id": "vKhg1lOunaf0",
        "outputId": "fc9d41e2-1bc2-4c79-f380-e61b6ffbd54c"
      },
      "source": [
        "# we can also specify the data type while creating a tensor\n",
        "another_matrix = tf.constant([\n",
        "                              [1,2],\n",
        "                              [3,4],\n",
        "                              [5,6]\n",
        "],dtype=tf.float16,shape=[2,3])\n",
        "another_matrix"
      ],
      "execution_count": 14,
      "outputs": [
        {
          "output_type": "execute_result",
          "data": {
            "text/plain": [
              "<tf.Tensor: shape=(2, 3), dtype=float16, numpy=\n",
              "array([[1., 2., 3.],\n",
              "       [4., 5., 6.]], dtype=float16)>"
            ]
          },
          "metadata": {},
          "execution_count": 14
        }
      ]
    },
    {
      "cell_type": "markdown",
      "metadata": {
        "id": "353KA7NZpcIA"
      },
      "source": [
        "### Creating tensors with `tf.Variable()`"
      ]
    },
    {
      "cell_type": "code",
      "metadata": {
        "colab": {
          "base_uri": "https://localhost:8080/"
        },
        "id": "l-ddot-orJbQ",
        "outputId": "8124a769-8ab8-48d5-98a5-39f93a6e9f22"
      },
      "source": [
        "changeable_vector = tf.Variable([5,6])\n",
        "unchangeable_vector = tf.constant([5,6])\n",
        "changeable_vector, unchangeable_vector"
      ],
      "execution_count": 17,
      "outputs": [
        {
          "output_type": "execute_result",
          "data": {
            "text/plain": [
              "(<tf.Variable 'Variable:0' shape=(2,) dtype=int32, numpy=array([5, 6], dtype=int32)>,\n",
              " <tf.Tensor: shape=(2,), dtype=int32, numpy=array([5, 6], dtype=int32)>)"
            ]
          },
          "metadata": {},
          "execution_count": 17
        }
      ]
    },
    {
      "cell_type": "markdown",
      "metadata": {
        "id": "eqXosQG9rhBl"
      },
      "source": [
        "but we can't change or assign the element of a changeable vector or tensor with assignment operator `=`"
      ]
    },
    {
      "cell_type": "code",
      "metadata": {
        "colab": {
          "base_uri": "https://localhost:8080/"
        },
        "id": "4IZthTGRr72z",
        "outputId": "88f04cf6-339a-4a4e-ac3e-faad0319ca59"
      },
      "source": [
        "changeable_vector[1]"
      ],
      "execution_count": 18,
      "outputs": [
        {
          "output_type": "execute_result",
          "data": {
            "text/plain": [
              "<tf.Tensor: shape=(), dtype=int32, numpy=6>"
            ]
          },
          "metadata": {},
          "execution_count": 18
        }
      ]
    },
    {
      "cell_type": "code",
      "metadata": {
        "colab": {
          "base_uri": "https://localhost:8080/",
          "height": 201
        },
        "id": "Tw_5Np08sCQT",
        "outputId": "bd61d731-392c-4d5d-ea92-f42ae6a4d409"
      },
      "source": [
        "changeable_vector[1] = 12"
      ],
      "execution_count": 19,
      "outputs": [
        {
          "output_type": "error",
          "ename": "TypeError",
          "evalue": "ignored",
          "traceback": [
            "\u001b[0;31m---------------------------------------------------------------------------\u001b[0m",
            "\u001b[0;31mTypeError\u001b[0m                                 Traceback (most recent call last)",
            "\u001b[0;32m<ipython-input-19-af89881d7f9d>\u001b[0m in \u001b[0;36m<module>\u001b[0;34m()\u001b[0m\n\u001b[0;32m----> 1\u001b[0;31m \u001b[0mchangeable_vector\u001b[0m\u001b[0;34m[\u001b[0m\u001b[0;36m1\u001b[0m\u001b[0;34m]\u001b[0m \u001b[0;34m=\u001b[0m \u001b[0;36m12\u001b[0m\u001b[0;34m\u001b[0m\u001b[0;34m\u001b[0m\u001b[0m\n\u001b[0m",
            "\u001b[0;31mTypeError\u001b[0m: 'ResourceVariable' object does not support item assignment"
          ]
        }
      ]
    },
    {
      "cell_type": "markdown",
      "metadata": {
        "id": "zoWNopeSsGGm"
      },
      "source": [
        "rathar , we can assign or change it via `tensor.assign()` method"
      ]
    },
    {
      "cell_type": "code",
      "metadata": {
        "colab": {
          "base_uri": "https://localhost:8080/"
        },
        "id": "4THbf4zDsQCE",
        "outputId": "e2065f92-078f-472d-bea3-fa56b8dfbfd7"
      },
      "source": [
        "changeable_vector[1].assign(12)\n",
        "changeable_vector, changeable_vector[1]"
      ],
      "execution_count": 23,
      "outputs": [
        {
          "output_type": "execute_result",
          "data": {
            "text/plain": [
              "(<tf.Variable 'Variable:0' shape=(2,) dtype=int32, numpy=array([ 5, 12], dtype=int32)>,\n",
              " <tf.Tensor: shape=(), dtype=int32, numpy=12>)"
            ]
          },
          "metadata": {},
          "execution_count": 23
        }
      ]
    },
    {
      "cell_type": "markdown",
      "metadata": {
        "id": "qgqdQ7hBsZRp"
      },
      "source": [
        "but , changing the elements of a unchangeable_vector or constant is not possible and thats why it is called constant"
      ]
    },
    {
      "cell_type": "code",
      "metadata": {
        "colab": {
          "base_uri": "https://localhost:8080/"
        },
        "id": "eX94jQ3IspJ6",
        "outputId": "e706db47-ee19-43da-fa06-4c7cd5931803"
      },
      "source": [
        "unchangeable_vector[1]"
      ],
      "execution_count": 22,
      "outputs": [
        {
          "output_type": "execute_result",
          "data": {
            "text/plain": [
              "<tf.Tensor: shape=(), dtype=int32, numpy=6>"
            ]
          },
          "metadata": {},
          "execution_count": 22
        }
      ]
    },
    {
      "cell_type": "code",
      "metadata": {
        "colab": {
          "base_uri": "https://localhost:8080/",
          "height": 374
        },
        "id": "8bVtFcwtsrnF",
        "outputId": "a4265d24-06dc-4bbc-f536-15e44b77e052"
      },
      "source": [
        "unchangeable_vector[1].assign(12)"
      ],
      "execution_count": 24,
      "outputs": [
        {
          "output_type": "error",
          "ename": "AttributeError",
          "evalue": "ignored",
          "traceback": [
            "\u001b[0;31m---------------------------------------------------------------------------\u001b[0m",
            "\u001b[0;31mAttributeError\u001b[0m                            Traceback (most recent call last)",
            "\u001b[0;32m<ipython-input-24-010881421f05>\u001b[0m in \u001b[0;36m<module>\u001b[0;34m()\u001b[0m\n\u001b[0;32m----> 1\u001b[0;31m \u001b[0munchangeable_vector\u001b[0m\u001b[0;34m[\u001b[0m\u001b[0;36m1\u001b[0m\u001b[0;34m]\u001b[0m\u001b[0;34m.\u001b[0m\u001b[0massign\u001b[0m\u001b[0;34m(\u001b[0m\u001b[0;36m12\u001b[0m\u001b[0;34m)\u001b[0m\u001b[0;34m\u001b[0m\u001b[0;34m\u001b[0m\u001b[0m\n\u001b[0m",
            "\u001b[0;32m/usr/local/lib/python3.7/dist-packages/tensorflow/python/framework/ops.py\u001b[0m in \u001b[0;36m__getattr__\u001b[0;34m(self, name)\u001b[0m\n\u001b[1;32m    440\u001b[0m         \u001b[0;32mfrom\u001b[0m \u001b[0mtensorflow\u001b[0m\u001b[0;34m.\u001b[0m\u001b[0mpython\u001b[0m\u001b[0;34m.\u001b[0m\u001b[0mops\u001b[0m\u001b[0;34m.\u001b[0m\u001b[0mnumpy_ops\u001b[0m \u001b[0;32mimport\u001b[0m \u001b[0mnp_config\u001b[0m\u001b[0;34m\u001b[0m\u001b[0;34m\u001b[0m\u001b[0m\n\u001b[1;32m    441\u001b[0m         np_config.enable_numpy_behavior()\"\"\".format(type(self).__name__, name))\n\u001b[0;32m--> 442\u001b[0;31m     \u001b[0mself\u001b[0m\u001b[0;34m.\u001b[0m\u001b[0m__getattribute__\u001b[0m\u001b[0;34m(\u001b[0m\u001b[0mname\u001b[0m\u001b[0;34m)\u001b[0m\u001b[0;34m\u001b[0m\u001b[0;34m\u001b[0m\u001b[0m\n\u001b[0m\u001b[1;32m    443\u001b[0m \u001b[0;34m\u001b[0m\u001b[0m\n\u001b[1;32m    444\u001b[0m   \u001b[0;34m@\u001b[0m\u001b[0mstaticmethod\u001b[0m\u001b[0;34m\u001b[0m\u001b[0;34m\u001b[0m\u001b[0m\n",
            "\u001b[0;31mAttributeError\u001b[0m: 'tensorflow.python.framework.ops.EagerTensor' object has no attribute 'assign'"
          ]
        }
      ]
    },
    {
      "cell_type": "markdown",
      "metadata": {
        "id": "31XS4Z3Ns44z"
      },
      "source": [
        "### Creating random tensors "
      ]
    },
    {
      "cell_type": "code",
      "metadata": {
        "id": "jtC0FBO6t4By"
      },
      "source": [
        "# specifying random seed \n",
        "\n",
        "random_1 = tf.random.Generator.from_seed(24)\n"
      ],
      "execution_count": 25,
      "outputs": []
    },
    {
      "cell_type": "code",
      "metadata": {
        "colab": {
          "base_uri": "https://localhost:8080/"
        },
        "id": "n8moyHsuuTcb",
        "outputId": "a1a92184-9f04-4f04-d013-066e08ad941f"
      },
      "source": [
        "random_1 = random_1.normal(shape = [3,2])\n",
        "random_1"
      ],
      "execution_count": 26,
      "outputs": [
        {
          "output_type": "execute_result",
          "data": {
            "text/plain": [
              "<tf.Tensor: shape=(3, 2), dtype=float32, numpy=\n",
              "array([[ 0.10944034, -0.8035768 ],\n",
              "       [-1.7166729 ,  0.3738578 ],\n",
              "       [-0.14371012, -0.34646833]], dtype=float32)>"
            ]
          },
          "metadata": {},
          "execution_count": 26
        }
      ]
    },
    {
      "cell_type": "code",
      "metadata": {
        "colab": {
          "base_uri": "https://localhost:8080/"
        },
        "id": "sAVtGMqFuew9",
        "outputId": "1db853a8-56b2-46d7-baa6-6090b2561b0a"
      },
      "source": [
        "random_2 = tf.random.Generator.from_seed(24)\n",
        "\n",
        "random_2 = random_2.normal(shape = [3,2])\n",
        "\n",
        "random_1 == random_2"
      ],
      "execution_count": 28,
      "outputs": [
        {
          "output_type": "execute_result",
          "data": {
            "text/plain": [
              "<tf.Tensor: shape=(3, 2), dtype=bool, numpy=\n",
              "array([[ True,  True],\n",
              "       [ True,  True],\n",
              "       [ True,  True]])>"
            ]
          },
          "metadata": {},
          "execution_count": 28
        }
      ]
    },
    {
      "cell_type": "code",
      "metadata": {
        "colab": {
          "base_uri": "https://localhost:8080/"
        },
        "id": "2n94d4HBuzW6",
        "outputId": "94286283-9ec2-4c77-d899-59e16d4aa49f"
      },
      "source": [
        "random_1, random_2"
      ],
      "execution_count": 29,
      "outputs": [
        {
          "output_type": "execute_result",
          "data": {
            "text/plain": [
              "(<tf.Tensor: shape=(3, 2), dtype=float32, numpy=\n",
              " array([[ 0.10944034, -0.8035768 ],\n",
              "        [-1.7166729 ,  0.3738578 ],\n",
              "        [-0.14371012, -0.34646833]], dtype=float32)>,\n",
              " <tf.Tensor: shape=(3, 2), dtype=float32, numpy=\n",
              " array([[ 0.10944034, -0.8035768 ],\n",
              "        [-1.7166729 ,  0.3738578 ],\n",
              "        [-0.14371012, -0.34646833]], dtype=float32)>)"
            ]
          },
          "metadata": {},
          "execution_count": 29
        }
      ]
    },
    {
      "cell_type": "markdown",
      "metadata": {
        "id": "BvpCn8S_u-pX"
      },
      "source": [
        "each time we create tensor with same seed , the element of the tensors will be the same as the seed is the same . But, if the seed differs , the element will also get changed "
      ]
    },
    {
      "cell_type": "code",
      "metadata": {
        "colab": {
          "base_uri": "https://localhost:8080/"
        },
        "id": "3FniW9yyx3ta",
        "outputId": "bfb7854b-4e2c-4eec-fffd-f18ef3eb0700"
      },
      "source": [
        "random_3 = tf.random.Generator.from_seed(33)\n",
        "random_3 = random_3.normal(shape = [3,2])\n",
        "\n",
        "random_4 = tf.random.Generator.from_seed(32)\n",
        "random_4 = random_4.normal(shape = [3,2])\n",
        "\n",
        "random_3 == random_4"
      ],
      "execution_count": 30,
      "outputs": [
        {
          "output_type": "execute_result",
          "data": {
            "text/plain": [
              "<tf.Tensor: shape=(3, 2), dtype=bool, numpy=\n",
              "array([[False, False],\n",
              "       [False, False],\n",
              "       [False, False]])>"
            ]
          },
          "metadata": {},
          "execution_count": 30
        }
      ]
    },
    {
      "cell_type": "code",
      "metadata": {
        "colab": {
          "base_uri": "https://localhost:8080/"
        },
        "id": "0ah6_D4Kyfu9",
        "outputId": "67ef5541-51a9-4b78-9865-bdc3b6f84839"
      },
      "source": [
        "random_3, random_4"
      ],
      "execution_count": 31,
      "outputs": [
        {
          "output_type": "execute_result",
          "data": {
            "text/plain": [
              "(<tf.Tensor: shape=(3, 2), dtype=float32, numpy=\n",
              " array([[-0.1589871 ,  1.302304  ],\n",
              "        [ 0.9592239 ,  0.85874265],\n",
              "        [-1.5181769 ,  1.4020647 ]], dtype=float32)>,\n",
              " <tf.Tensor: shape=(3, 2), dtype=float32, numpy=\n",
              " array([[ 0.7901182 ,  1.585549  ],\n",
              "        [ 0.4356279 ,  0.23645182],\n",
              "        [-0.1589871 ,  1.302304  ]], dtype=float32)>)"
            ]
          },
          "metadata": {},
          "execution_count": 31
        }
      ]
    },
    {
      "cell_type": "markdown",
      "metadata": {
        "id": "yQ3pzME4-OvO"
      },
      "source": [
        "## Shuffling the order of a tensor"
      ]
    },
    {
      "cell_type": "markdown",
      "metadata": {
        "id": "0Wj0xNObyjfy"
      },
      "source": [
        "### Why do we need to shuffle the order ?\n",
        "\n",
        "take an example of 100 image classification. If there is a scenario, where all the first 60 images are of dogs and the rest 40 images are of cats, our model may get confused here. Because, as it starts to learn, it will learn only one pattern first, so, it might get difficult for the model to learn the difference between those two. For minimizing that problem or we can say, add versatility to our data set, we need to shuffle the order of our data set."
      ]
    },
    {
      "cell_type": "code",
      "metadata": {
        "colab": {
          "base_uri": "https://localhost:8080/"
        },
        "id": "p8IM-xuh9Y77",
        "outputId": "69db1ac0-63ed-4846-a729-9b946c0f1243"
      },
      "source": [
        " # creat a tensor \n",
        "\n",
        " not_shuffled = tf.constant([\n",
        "                             [1,2],\n",
        "                             [10,7],\n",
        "                             [14,12]\n",
        " ])\n",
        "\n",
        " tf.random.shuffle(not_shuffled)"
      ],
      "execution_count": 35,
      "outputs": [
        {
          "output_type": "execute_result",
          "data": {
            "text/plain": [
              "<tf.Tensor: shape=(3, 2), dtype=int32, numpy=\n",
              "array([[14, 12],\n",
              "       [ 1,  2],\n",
              "       [10,  7]], dtype=int32)>"
            ]
          },
          "metadata": {},
          "execution_count": 35
        }
      ]
    },
    {
      "cell_type": "code",
      "metadata": {
        "colab": {
          "base_uri": "https://localhost:8080/"
        },
        "id": "GziEQtmi-liV",
        "outputId": "6315545f-3f18-4cc4-cc1d-4beeaa1ecac5"
      },
      "source": [
        " tf.random.shuffle(not_shuffled)"
      ],
      "execution_count": 37,
      "outputs": [
        {
          "output_type": "execute_result",
          "data": {
            "text/plain": [
              "<tf.Tensor: shape=(3, 2), dtype=int32, numpy=\n",
              "array([[ 1,  2],\n",
              "       [14, 12],\n",
              "       [10,  7]], dtype=int32)>"
            ]
          },
          "metadata": {},
          "execution_count": 37
        }
      ]
    },
    {
      "cell_type": "code",
      "metadata": {
        "colab": {
          "base_uri": "https://localhost:8080/"
        },
        "id": "CkKkLqQ2AoCT",
        "outputId": "0aeb6081-2997-4f93-8539-1c9b5179da2a"
      },
      "source": [
        "tf.random.shuffle(not_shuffled,seed=42)"
      ],
      "execution_count": 54,
      "outputs": [
        {
          "output_type": "execute_result",
          "data": {
            "text/plain": [
              "<tf.Tensor: shape=(3, 2), dtype=int32, numpy=\n",
              "array([[ 1,  2],\n",
              "       [10,  7],\n",
              "       [14, 12]], dtype=int32)>"
            ]
          },
          "metadata": {},
          "execution_count": 54
        }
      ]
    },
    {
      "cell_type": "code",
      "metadata": {
        "colab": {
          "base_uri": "https://localhost:8080/"
        },
        "id": "BBdNe5jSA5YF",
        "outputId": "e9104189-7ca5-44e9-8e2b-9cfcec15f1df"
      },
      "source": [
        "tf.random.set_seed(42) # setting global seed \n",
        "tf.random.shuffle(not_shuffled)"
      ],
      "execution_count": 55,
      "outputs": [
        {
          "output_type": "execute_result",
          "data": {
            "text/plain": [
              "<tf.Tensor: shape=(3, 2), dtype=int32, numpy=\n",
              "array([[10,  7],\n",
              "       [14, 12],\n",
              "       [ 1,  2]], dtype=int32)>"
            ]
          },
          "metadata": {},
          "execution_count": 55
        }
      ]
    },
    {
      "cell_type": "code",
      "metadata": {
        "colab": {
          "base_uri": "https://localhost:8080/"
        },
        "id": "-HmqsktOGyQo",
        "outputId": "331c51bd-9c80-4f72-e4b3-70590964d8bc"
      },
      "source": [
        "tf.random.set_seed(42) # global seed declartion\n",
        "\n",
        "tf.random.shuffle(not_shuffled, seed = 42) # operational seed declartion"
      ],
      "execution_count": 67,
      "outputs": [
        {
          "output_type": "execute_result",
          "data": {
            "text/plain": [
              "<tf.Tensor: shape=(3, 2), dtype=int32, numpy=\n",
              "array([[ 1,  2],\n",
              "       [10,  7],\n",
              "       [14, 12]], dtype=int32)>"
            ]
          },
          "metadata": {},
          "execution_count": 67
        }
      ]
    },
    {
      "cell_type": "code",
      "metadata": {
        "id": "-qDkrOfEII6Q"
      },
      "source": [
        " "
      ],
      "execution_count": 65,
      "outputs": []
    },
    {
      "cell_type": "code",
      "metadata": {
        "id": "Ofjw57soJEPN"
      },
      "source": [
        ""
      ],
      "execution_count": null,
      "outputs": []
    }
  ]
}